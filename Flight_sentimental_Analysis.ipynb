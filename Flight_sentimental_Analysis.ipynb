{
 "cells": [
  {
   "cell_type": "code",
   "execution_count": 1,
   "metadata": {
    "colab": {},
    "colab_type": "code",
    "id": "MUARNzSaSFjl"
   },
   "outputs": [],
   "source": [
    "import pandas as pd\n",
    "import matplotlib.pyplot as plt\n",
    "import numpy as np"
   ]
  },
  {
   "cell_type": "code",
   "execution_count": 2,
   "metadata": {
    "colab": {
     "base_uri": "https://localhost:8080/",
     "height": 204
    },
    "colab_type": "code",
    "id": "AD04JysiSRQ-",
    "outputId": "5cd0c0ca-32c9-4fc5-8154-120121665d2d"
   },
   "outputs": [
    {
     "data": {
      "text/html": [
       "<div>\n",
       "<style scoped>\n",
       "    .dataframe tbody tr th:only-of-type {\n",
       "        vertical-align: middle;\n",
       "    }\n",
       "\n",
       "    .dataframe tbody tr th {\n",
       "        vertical-align: top;\n",
       "    }\n",
       "\n",
       "    .dataframe thead th {\n",
       "        text-align: right;\n",
       "    }\n",
       "</style>\n",
       "<table border=\"1\" class=\"dataframe\">\n",
       "  <thead>\n",
       "    <tr style=\"text-align: right;\">\n",
       "      <th></th>\n",
       "      <th>airline_sentiment</th>\n",
       "      <th>airline</th>\n",
       "      <th>text</th>\n",
       "    </tr>\n",
       "  </thead>\n",
       "  <tbody>\n",
       "    <tr>\n",
       "      <th>0</th>\n",
       "      <td>positive</td>\n",
       "      <td>Virgin America</td>\n",
       "      <td>@VirginAmerica What @dhepburn said.</td>\n",
       "    </tr>\n",
       "    <tr>\n",
       "      <th>1</th>\n",
       "      <td>positive</td>\n",
       "      <td>Virgin America</td>\n",
       "      <td>@VirginAmerica plus you've added commercials t...</td>\n",
       "    </tr>\n",
       "    <tr>\n",
       "      <th>2</th>\n",
       "      <td>positive</td>\n",
       "      <td>Virgin America</td>\n",
       "      <td>@VirginAmerica I didn't today... Must mean I n...</td>\n",
       "    </tr>\n",
       "    <tr>\n",
       "      <th>3</th>\n",
       "      <td>negative</td>\n",
       "      <td>Virgin America</td>\n",
       "      <td>@VirginAmerica it's really aggressive to blast...</td>\n",
       "    </tr>\n",
       "    <tr>\n",
       "      <th>4</th>\n",
       "      <td>negative</td>\n",
       "      <td>Virgin America</td>\n",
       "      <td>@VirginAmerica and it's a really big bad thing...</td>\n",
       "    </tr>\n",
       "  </tbody>\n",
       "</table>\n",
       "</div>"
      ],
      "text/plain": [
       "  airline_sentiment         airline  \\\n",
       "0          positive  Virgin America   \n",
       "1          positive  Virgin America   \n",
       "2          positive  Virgin America   \n",
       "3          negative  Virgin America   \n",
       "4          negative  Virgin America   \n",
       "\n",
       "                                                text  \n",
       "0                @VirginAmerica What @dhepburn said.  \n",
       "1  @VirginAmerica plus you've added commercials t...  \n",
       "2  @VirginAmerica I didn't today... Must mean I n...  \n",
       "3  @VirginAmerica it's really aggressive to blast...  \n",
       "4  @VirginAmerica and it's a really big bad thing...  "
      ]
     },
     "execution_count": 2,
     "metadata": {},
     "output_type": "execute_result"
    }
   ],
   "source": [
    "df = pd.read_csv(r\"E:\\NLP\\sentimental_analysis_flight_reviews.csv\")\n",
    "df.head()"
   ]
  },
  {
   "cell_type": "markdown",
   "metadata": {
    "colab_type": "text",
    "id": "xnUSJZ7Dmbo-"
   },
   "source": [
    "# Data Pre-Processing"
   ]
  },
  {
   "cell_type": "markdown",
   "metadata": {
    "colab_type": "text",
    "id": "ZzXHaUzRjOw0"
   },
   "source": [
    "Mapping categories to numbers"
   ]
  },
  {
   "cell_type": "code",
   "execution_count": 3,
   "metadata": {
    "colab": {},
    "colab_type": "code",
    "id": "nrASyjIocqky"
   },
   "outputs": [],
   "source": [
    "df.airline_sentiment = df.airline_sentiment.map({\"positive\":1, \"negative\":0})\n",
    "\n",
    "df.airline = df.airline.map({\"Virgin America\":2, \"United\":1})"
   ]
  },
  {
   "cell_type": "code",
   "execution_count": 4,
   "metadata": {
    "colab": {
     "base_uri": "https://localhost:8080/",
     "height": 102
    },
    "colab_type": "code",
    "id": "_4aKEy4GUokn",
    "outputId": "b7e18b0a-1bed-4b5c-ea1c-9d9c821be31a"
   },
   "outputs": [
    {
     "name": "stderr",
     "output_type": "stream",
     "text": [
      "[nltk_data] Downloading package stopwords to\n",
      "[nltk_data]     C:\\Users\\DELL\\AppData\\Roaming\\nltk_data...\n",
      "[nltk_data]   Package stopwords is already up-to-date!\n",
      "[nltk_data] Downloading package wordnet to\n",
      "[nltk_data]     C:\\Users\\DELL\\AppData\\Roaming\\nltk_data...\n",
      "[nltk_data]   Package wordnet is already up-to-date!\n"
     ]
    },
    {
     "data": {
      "text/plain": [
       "True"
      ]
     },
     "execution_count": 4,
     "metadata": {},
     "output_type": "execute_result"
    }
   ],
   "source": [
    "from nltk.stem.snowball import SnowballStemmer\n",
    "from nltk.stem import PorterStemmer \n",
    "from nltk.corpus import stopwords\n",
    "import re\n",
    "import nltk\n",
    "nltk.download('stopwords')\n",
    "nltk.download('wordnet')"
   ]
  },
  {
   "cell_type": "markdown",
   "metadata": {
    "colab_type": "text",
    "id": "eI5DBT02kXuJ"
   },
   "source": [
    "1. Creating my own stopwords since using stopwords by nltk remove words like not, no, didn't, haven't, shouldn't, which are important in sentiment analysis.\n",
    "\n",
    "2. using regex to replace \"didn't\" or \"didnt\" with \"did not\" and such.\n",
    "\n",
    "3. Removing \"@\" cals from the tweet.\n",
    "\n",
    "4. Removing non alpha-numeric characters.\n",
    "\n",
    "5. Removing double spaces.\n",
    "\n",
    "6. Lemmatizing every word and then stemming it for every review.\n",
    "\n",
    "7. Removing words with 1 letter like \"a\", \"i\"."
   ]
  },
  {
   "cell_type": "code",
   "execution_count": 5,
   "metadata": {
    "colab": {},
    "colab_type": "code",
    "id": "jRa0yhT5S0Or"
   },
   "outputs": [],
   "source": [
    "my_stopwords = [\"is\", \"am\",\"an\", \"are\", \"of\",\"can\", \"were\", \"he\", \"she\", \"him\", \"her\", \"his\", \"me\", \"in\", \"was\", \"will\", \"being\", \"have\", \"has\", \"had\", \n",
    "                \"also\", \"to\", \"for\", \"the\", \"we\", \"you\", \"by\", \"during\", \"on\", \"us\", \"my\", \"mine\", \"our\", \"it\",\"those\", \"be\",\n",
    "                \"that\", \"would\", \"this\", \"there\", \"youd\", \"who\",\"then\", \"they\", \"them\", \"as\"]\n",
    "def clean_review(review):\n",
    "    review=re.sub(\"(n\\'t)|(\\w+nt)\",\" not\",review)\n",
    "    review=re.sub(\"(\\@\\w+)\",\"\",review)\n",
    "    review=re.sub(\"[^a-zA-Z]\",\" \",review)\n",
    "    review=re.sub(\"\\s\\s\",\" \",review)\n",
    "\n",
    "    review=review.lower()\n",
    "    review=review.split()\n",
    "    ps=PorterStemmer()\n",
    "    # ps=Stemmer()\n",
    "    # ps=SnowballStemmer(language=\"english\")\n",
    "    lemma = nltk.wordnet.WordNetLemmatizer()\n",
    "    \n",
    "    review=[ps.stem(lemma.lemmatize(word)) for word in review if ((word not in my_stopwords))]\n",
    "    review = [word for word in review if len(word) > 1]\n",
    "    # review=[ps.stem(word) for word in review if not word in set(stopwords.words('english'))]\n",
    "    review=' '.join(review)\n",
    "    return review"
   ]
  },
  {
   "cell_type": "code",
   "execution_count": 6,
   "metadata": {
    "colab": {
     "base_uri": "https://localhost:8080/",
     "height": 204
    },
    "colab_type": "code",
    "id": "GIqEz0PCUbFJ",
    "outputId": "f01f36c0-65b0-4412-8ceb-b13bd96b365b"
   },
   "outputs": [
    {
     "data": {
      "text/html": [
       "<div>\n",
       "<style scoped>\n",
       "    .dataframe tbody tr th:only-of-type {\n",
       "        vertical-align: middle;\n",
       "    }\n",
       "\n",
       "    .dataframe tbody tr th {\n",
       "        vertical-align: top;\n",
       "    }\n",
       "\n",
       "    .dataframe thead th {\n",
       "        text-align: right;\n",
       "    }\n",
       "</style>\n",
       "<table border=\"1\" class=\"dataframe\">\n",
       "  <thead>\n",
       "    <tr style=\"text-align: right;\">\n",
       "      <th></th>\n",
       "      <th>airline_sentiment</th>\n",
       "      <th>airline</th>\n",
       "      <th>text</th>\n",
       "      <th>processed_review</th>\n",
       "    </tr>\n",
       "  </thead>\n",
       "  <tbody>\n",
       "    <tr>\n",
       "      <th>0</th>\n",
       "      <td>1</td>\n",
       "      <td>2</td>\n",
       "      <td>@VirginAmerica What @dhepburn said.</td>\n",
       "      <td>what said</td>\n",
       "    </tr>\n",
       "    <tr>\n",
       "      <th>1</th>\n",
       "      <td>1</td>\n",
       "      <td>2</td>\n",
       "      <td>@VirginAmerica plus you've added commercials t...</td>\n",
       "      <td>plu ve ad commerci experi tacki</td>\n",
       "    </tr>\n",
       "    <tr>\n",
       "      <th>2</th>\n",
       "      <td>1</td>\n",
       "      <td>2</td>\n",
       "      <td>@VirginAmerica I didn't today... Must mean I n...</td>\n",
       "      <td>did not today must mean need take anoth trip</td>\n",
       "    </tr>\n",
       "    <tr>\n",
       "      <th>3</th>\n",
       "      <td>0</td>\n",
       "      <td>2</td>\n",
       "      <td>@VirginAmerica it's really aggressive to blast...</td>\n",
       "      <td>realli aggress blast obnoxi not your guest fac...</td>\n",
       "    </tr>\n",
       "    <tr>\n",
       "      <th>4</th>\n",
       "      <td>0</td>\n",
       "      <td>2</td>\n",
       "      <td>@VirginAmerica and it's a really big bad thing...</td>\n",
       "      <td>and realli big bad thing about</td>\n",
       "    </tr>\n",
       "  </tbody>\n",
       "</table>\n",
       "</div>"
      ],
      "text/plain": [
       "   airline_sentiment  airline  \\\n",
       "0                  1        2   \n",
       "1                  1        2   \n",
       "2                  1        2   \n",
       "3                  0        2   \n",
       "4                  0        2   \n",
       "\n",
       "                                                text  \\\n",
       "0                @VirginAmerica What @dhepburn said.   \n",
       "1  @VirginAmerica plus you've added commercials t...   \n",
       "2  @VirginAmerica I didn't today... Must mean I n...   \n",
       "3  @VirginAmerica it's really aggressive to blast...   \n",
       "4  @VirginAmerica and it's a really big bad thing...   \n",
       "\n",
       "                                    processed_review  \n",
       "0                                          what said  \n",
       "1                    plu ve ad commerci experi tacki  \n",
       "2       did not today must mean need take anoth trip  \n",
       "3  realli aggress blast obnoxi not your guest fac...  \n",
       "4                     and realli big bad thing about  "
      ]
     },
     "execution_count": 6,
     "metadata": {},
     "output_type": "execute_result"
    }
   ],
   "source": [
    "df[\"processed_review\"] = df.text.apply(clean_review)\n",
    "df.head()"
   ]
  },
  {
   "cell_type": "code",
   "execution_count": 7,
   "metadata": {
    "colab": {},
    "colab_type": "code",
    "id": "2F8us-9VVjsr"
   },
   "outputs": [],
   "source": [
    "X = df.processed_review\n",
    "y = df.airline_sentiment"
   ]
  },
  {
   "cell_type": "code",
   "execution_count": 8,
   "metadata": {
    "colab": {
     "base_uri": "https://localhost:8080/",
     "height": 34
    },
    "colab_type": "code",
    "id": "4SC6mhE-Vo7s",
    "outputId": "21934d28-a0d0-41c8-c774-dcdbc0512cb5"
   },
   "outputs": [
    {
     "data": {
      "text/plain": [
       "(514,)"
      ]
     },
     "execution_count": 8,
     "metadata": {},
     "output_type": "execute_result"
    }
   ],
   "source": [
    "X.shape"
   ]
  },
  {
   "cell_type": "markdown",
   "metadata": {
    "colab_type": "text",
    "id": "2Te5juP-le-m"
   },
   "source": [
    "Random sample of 5 processed reviews"
   ]
  },
  {
   "cell_type": "code",
   "execution_count": 9,
   "metadata": {
    "colab": {
     "base_uri": "https://localhost:8080/",
     "height": 102
    },
    "colab_type": "code",
    "id": "jiwhvgE2rRn3",
    "outputId": "a16bc7ab-c736-40fe-a994-69ab0bbe11ae"
   },
   "outputs": [
    {
     "data": {
      "text/plain": [
       "['veri understand and help out thx comp',\n",
       " 'note not at design silver statu check line close assist all paseng',\n",
       " 'done and done best airlin around hand down',\n",
       " 'omg final',\n",
       " 'thank easi itinerari shift impend weather quick painless amp free']"
      ]
     },
     "execution_count": 9,
     "metadata": {},
     "output_type": "execute_result"
    }
   ],
   "source": [
    "df.processed_review.sample(5).tolist()"
   ]
  },
  {
   "cell_type": "markdown",
   "metadata": {
    "colab_type": "text",
    "id": "GJ6aQTETljlw"
   },
   "source": [
    "Train test split and using shuffle"
   ]
  },
  {
   "cell_type": "code",
   "execution_count": 10,
   "metadata": {
    "colab": {},
    "colab_type": "code",
    "id": "frOeGXraVyTY"
   },
   "outputs": [],
   "source": [
    "from sklearn.model_selection import train_test_split\n",
    "X_train,X_test,y_train,y_test=train_test_split(X,y,test_size=0.25, shuffle=True, random_state=39)\n"
   ]
  },
  {
   "cell_type": "markdown",
   "metadata": {
    "colab_type": "text",
    "id": "S1RvjFeYlogx"
   },
   "source": [
    "Vectorizing a review into 1200 features"
   ]
  },
  {
   "cell_type": "code",
   "execution_count": 11,
   "metadata": {
    "colab": {},
    "colab_type": "code",
    "id": "Z80i34vaV2Fl"
   },
   "outputs": [],
   "source": [
    "from sklearn.feature_extraction.text import CountVectorizer, TfidfVectorizer\n",
    "\n",
    "cv=TfidfVectorizer(max_features=1200)\n",
    "\n",
    "X_train=cv.fit_transform(X_train)\n",
    "X_test=cv.transform(X_test)"
   ]
  },
  {
   "cell_type": "markdown",
   "metadata": {
    "colab_type": "text",
    "id": "NjLk4e2hlwBI"
   },
   "source": [
    "# Training the model\n",
    "\n",
    "Using a neural network that more or less mimics logistic regression "
   ]
  },
  {
   "cell_type": "code",
   "execution_count": 12,
   "metadata": {
    "colab": {
     "base_uri": "https://localhost:8080/",
     "height": 884
    },
    "colab_type": "code",
    "id": "ua09tVpKV4W_",
    "outputId": "355c4758-f148-4ec6-efd7-f2a58ddfd504"
   },
   "outputs": [
    {
     "name": "stderr",
     "output_type": "stream",
     "text": [
      "C:\\Users\\DELL\\Anaconda3\\lib\\site-packages\\dask\\config.py:168: YAMLLoadWarning: calling yaml.load() without Loader=... is deprecated, as the default Loader is unsafe. Please read https://msg.pyyaml.org/load for full details.\n",
      "  data = yaml.load(f.read()) or {}\n",
      "C:\\Users\\DELL\\Anaconda3\\lib\\site-packages\\distributed\\config.py:20: YAMLLoadWarning: calling yaml.load() without Loader=... is deprecated, as the default Loader is unsafe. Please read https://msg.pyyaml.org/load for full details.\n",
      "  defaults = yaml.load(f)\n",
      "Using TensorFlow backend.\n"
     ]
    },
    {
     "name": "stdout",
     "output_type": "stream",
     "text": [
      "WARNING:tensorflow:From C:\\Users\\DELL\\Anaconda3\\lib\\site-packages\\keras\\backend\\tensorflow_backend.py:74: The name tf.get_default_graph is deprecated. Please use tf.compat.v1.get_default_graph instead.\n",
      "\n",
      "WARNING:tensorflow:From C:\\Users\\DELL\\Anaconda3\\lib\\site-packages\\keras\\backend\\tensorflow_backend.py:517: The name tf.placeholder is deprecated. Please use tf.compat.v1.placeholder instead.\n",
      "\n",
      "WARNING:tensorflow:From C:\\Users\\DELL\\Anaconda3\\lib\\site-packages\\keras\\backend\\tensorflow_backend.py:4138: The name tf.random_uniform is deprecated. Please use tf.random.uniform instead.\n",
      "\n",
      "WARNING:tensorflow:From C:\\Users\\DELL\\Anaconda3\\lib\\site-packages\\keras\\optimizers.py:790: The name tf.train.Optimizer is deprecated. Please use tf.compat.v1.train.Optimizer instead.\n",
      "\n",
      "WARNING:tensorflow:From C:\\Users\\DELL\\Anaconda3\\lib\\site-packages\\keras\\backend\\tensorflow_backend.py:3376: The name tf.log is deprecated. Please use tf.math.log instead.\n",
      "\n",
      "WARNING:tensorflow:From C:\\Users\\DELL\\Anaconda3\\lib\\site-packages\\tensorflow\\python\\ops\\nn_impl.py:180: add_dispatch_support.<locals>.wrapper (from tensorflow.python.ops.array_ops) is deprecated and will be removed in a future version.\n",
      "Instructions for updating:\n",
      "Use tf.where in 2.0, which has the same broadcast rule as np.where\n",
      "WARNING:tensorflow:From C:\\Users\\DELL\\Anaconda3\\lib\\site-packages\\keras\\backend\\tensorflow_backend.py:986: The name tf.assign_add is deprecated. Please use tf.compat.v1.assign_add instead.\n",
      "\n",
      "Epoch 1/25\n",
      "385/385 [==============================] - 2s 4ms/step - loss: 0.6722 - acc: 0.6208\n",
      "Epoch 2/25\n",
      "385/385 [==============================] - 1s 2ms/step - loss: 0.6479 - acc: 0.6286\n",
      "Epoch 3/25\n",
      "385/385 [==============================] - 1s 2ms/step - loss: 0.6346 - acc: 0.5948\n",
      "Epoch 4/25\n",
      "385/385 [==============================] - 1s 2ms/step - loss: 0.5665 - acc: 0.8545\n",
      "Epoch 5/25\n",
      "385/385 [==============================] - 1s 2ms/step - loss: 0.5393 - acc: 0.6364\n",
      "Epoch 6/25\n",
      "385/385 [==============================] - 1s 2ms/step - loss: 0.5133 - acc: 0.9065A: 0s - loss: 0.5196 - ac\n",
      "Epoch 7/25\n",
      "385/385 [==============================] - 1s 2ms/step - loss: 0.4668 - acc: 0.9117\n",
      "Epoch 8/25\n",
      "385/385 [==============================] - 1s 2ms/step - loss: 0.4501 - acc: 0.7714\n",
      "Epoch 9/25\n",
      "385/385 [==============================] - 1s 2ms/step - loss: 0.4214 - acc: 0.8701\n",
      "Epoch 10/25\n",
      "385/385 [==============================] - 1s 2ms/step - loss: 0.4092 - acc: 0.9455\n",
      "Epoch 11/25\n",
      "385/385 [==============================] - 1s 2ms/step - loss: 0.3905 - acc: 0.8571\n",
      "Epoch 12/25\n",
      "385/385 [==============================] - 1s 2ms/step - loss: 0.3530 - acc: 0.9558\n",
      "Epoch 13/25\n",
      "385/385 [==============================] - 1s 2ms/step - loss: 0.3345 - acc: 0.9481\n",
      "Epoch 14/25\n",
      "385/385 [==============================] - 1s 2ms/step - loss: 0.3201 - acc: 0.9818\n",
      "Epoch 15/25\n",
      "385/385 [==============================] - 1s 2ms/step - loss: 0.3171 - acc: 0.8805\n",
      "Epoch 16/25\n",
      "385/385 [==============================] - 1s 2ms/step - loss: 0.2798 - acc: 0.9766\n",
      "Epoch 17/25\n",
      "385/385 [==============================] - 1s 2ms/step - loss: 0.2625 - acc: 0.9818\n",
      "Epoch 18/25\n",
      "385/385 [==============================] - 1s 2ms/step - loss: 0.2495 - acc: 0.9844\n",
      "Epoch 19/25\n",
      "385/385 [==============================] - 1s 2ms/step - loss: 0.2371 - acc: 0.9558A: 0s - loss: 0.2387 - acc: 0.95\n",
      "Epoch 20/25\n",
      "385/385 [==============================] - 1s 2ms/step - loss: 0.2107 - acc: 0.9922\n",
      "Epoch 21/25\n",
      "385/385 [==============================] - 1s 2ms/step - loss: 0.1998 - acc: 0.9896\n",
      "Epoch 22/25\n",
      "385/385 [==============================] - 1s 2ms/step - loss: 0.1972 - acc: 0.9818\n",
      "Epoch 23/25\n",
      "385/385 [==============================] - 1s 2ms/step - loss: 0.1807 - acc: 0.9792\n",
      "Epoch 24/25\n",
      "385/385 [==============================] - 1s 2ms/step - loss: 0.1758 - acc: 0.9818\n",
      "Epoch 25/25\n",
      "385/385 [==============================] - 1s 2ms/step - loss: 0.1541 - acc: 0.9922\n"
     ]
    },
    {
     "data": {
      "text/plain": [
       "<keras.callbacks.History at 0x255209b9b70>"
      ]
     },
     "execution_count": 12,
     "metadata": {},
     "output_type": "execute_result"
    }
   ],
   "source": [
    "from sklearn.ensemble import RandomForestClassifier\n",
    "from sklearn.linear_model import LogisticRegression\n",
    "from sklearn.tree import DecisionTreeClassifier\n",
    "from xgboost import XGBClassifier\n",
    "\n",
    "from keras.layers import InputLayer, Dense, Activation, Dropout\n",
    "from keras.models import Sequential\n",
    "\n",
    "model = Sequential()\n",
    "model.add(Dense(1200, input_shape=X_train.shape[1:], activation=\"sigmoid\"))\n",
    "\n",
    "model.add(Dense(1,activation=\"sigmoid\"))\n",
    "model.compile(optimizer=\"adam\", loss=\"binary_crossentropy\", metrics=[\"accuracy\"])\n",
    "\n",
    "# classifier = XGBClassifier(n_estimators=3000, max_depth=30)\n",
    "# classifier=RandomForestClassifier(n_estimators=3000)\n",
    "# classifier=LogisticRegression(random_state=2020)\n",
    "# classifier=DecisionTreeClassifier()\n",
    "\n",
    "# classifier.fit(X_train,y_train)\n",
    "model.fit(X_train, y_train, epochs=25)\n"
   ]
  },
  {
   "cell_type": "markdown",
   "metadata": {
    "colab_type": "text",
    "id": "zGpSn7ALmQEJ"
   },
   "source": [
    "# Predicting and analyzing accuracy metrics"
   ]
  },
  {
   "cell_type": "code",
   "execution_count": 13,
   "metadata": {
    "colab": {},
    "colab_type": "code",
    "id": "ygkF7l4rV6fq"
   },
   "outputs": [],
   "source": [
    "# y_pred=classifier.predict(X_test)\n",
    "y_pred=model.predict(X_test)\n"
   ]
  },
  {
   "cell_type": "code",
   "execution_count": 14,
   "metadata": {
    "colab": {
     "base_uri": "https://localhost:8080/",
     "height": 282
    },
    "colab_type": "code",
    "id": "KT7JO0bcSfDN",
    "outputId": "c64d29d2-5767-4f80-9783-c257882d8073"
   },
   "outputs": [
    {
     "data": {
      "text/plain": [
       "[<matplotlib.lines.Line2D at 0x2552368ecf8>]"
      ]
     },
     "execution_count": 14,
     "metadata": {},
     "output_type": "execute_result"
    },
    {
     "data": {
      "image/png": "[encoded data removed]",
      "text/plain": [
       "<Figure size 432x288 with 1 Axes>"
      ]
     },
     "metadata": {
      "needs_background": "light"
     },
     "output_type": "display_data"
    }
   ],
   "source": [
    "plt.plot(y_pred)"
   ]
  },
  {
   "cell_type": "code",
   "execution_count": 15,
   "metadata": {
    "colab": {},
    "colab_type": "code",
    "id": "yYZrupmBTNB5"
   },
   "outputs": [],
   "source": [
    "y_pred_activated = y_pred >= 0.5"
   ]
  },
  {
   "cell_type": "markdown",
   "metadata": {
    "colab_type": "text",
    "id": "2SXDe0J3l9Rp"
   },
   "source": [
    "Confusion matrix to understand type 1 and type 2 errors"
   ]
  },
  {
   "cell_type": "code",
   "execution_count": 16,
   "metadata": {
    "colab": {
     "base_uri": "https://localhost:8080/",
     "height": 51
    },
    "colab_type": "code",
    "id": "-naqyV0NV8Pk",
    "outputId": "9428db11-22ae-4c77-a13d-7ee8fd3f3b81"
   },
   "outputs": [
    {
     "data": {
      "text/plain": [
       "array([[29, 14],\n",
       "       [13, 73]], dtype=int64)"
      ]
     },
     "execution_count": 16,
     "metadata": {},
     "output_type": "execute_result"
    }
   ],
   "source": [
    "from sklearn.metrics import confusion_matrix\n",
    "cm=confusion_matrix(y_test,y_pred_activated)\n",
    "cm"
   ]
  },
  {
   "cell_type": "code",
   "execution_count": 17,
   "metadata": {
    "colab": {
     "base_uri": "https://localhost:8080/",
     "height": 170
    },
    "colab_type": "code",
    "id": "7FmSXlV-WKQ3",
    "outputId": "d8672042-452a-4860-ce47-98c7d4bd24ee"
   },
   "outputs": [
    {
     "name": "stdout",
     "output_type": "stream",
     "text": [
      "              precision    recall  f1-score   support\n",
      "\n",
      "           0       0.69      0.67      0.68        43\n",
      "           1       0.84      0.85      0.84        86\n",
      "\n",
      "   micro avg       0.79      0.79      0.79       129\n",
      "   macro avg       0.76      0.76      0.76       129\n",
      "weighted avg       0.79      0.79      0.79       129\n",
      "\n"
     ]
    }
   ],
   "source": [
    "from sklearn.metrics import confusion_matrix,classification_report,accuracy_score\n",
    "print(classification_report(y_test,y_pred_activated))"
   ]
  },
  {
   "cell_type": "code",
   "execution_count": 18,
   "metadata": {
    "colab": {
     "base_uri": "https://localhost:8080/",
     "height": 34
    },
    "colab_type": "code",
    "id": "U6yVX-fwWMR8",
    "outputId": "f999b580-b61f-4bdd-83e1-8433a00d661b"
   },
   "outputs": [
    {
     "name": "stdout",
     "output_type": "stream",
     "text": [
      "0.7906976744186046\n"
     ]
    }
   ],
   "source": [
    "print(accuracy_score(y_test,y_pred_activated))"
   ]
  },
  {
   "cell_type": "code",
   "execution_count": null,
   "metadata": {},
   "outputs": [],
   "source": []
  }
 ],
 "metadata": {
  "colab": {
   "collapsed_sections": [
    "xnUSJZ7Dmbo-",
    "NjLk4e2hlwBI",
    "zGpSn7ALmQEJ"
   ],
   "name": "Flight_sentiment_analysis.ipynb",
   "provenance": []
  },
  "kernelspec": {
   "display_name": "Python 3",
   "language": "python",
   "name": "python3"
  },
  "language_info": {
   "codemirror_mode": {
    "name": "ipython",
    "version": 3
   },
   "file_extension": ".py",
   "mimetype": "text/x-python",
   "name": "python",
   "nbconvert_exporter": "python",
   "pygments_lexer": "ipython3",
   "version": "3.7.7"
  }
 },
 "nbformat": 4,
 "nbformat_minor": 1
}
